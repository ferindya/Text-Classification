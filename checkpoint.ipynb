{
 "cells": [
  {
   "cell_type": "code",
   "execution_count": 237,
   "metadata": {},
   "outputs": [],
   "source": [
    "import pandas as pd\n",
    "import re\n",
    "import nltk"
   ]
  },
  {
   "cell_type": "code",
   "execution_count": 238,
   "metadata": {},
   "outputs": [
    {
     "name": "stderr",
     "output_type": "stream",
     "text": [
      "[nltk_data] Downloading package punkt to\n",
      "[nltk_data]     C:\\Users\\HP\\AppData\\Roaming\\nltk_data...\n",
      "[nltk_data]   Package punkt is already up-to-date!\n"
     ]
    },
    {
     "data": {
      "text/plain": [
       "True"
      ]
     },
     "execution_count": 238,
     "metadata": {},
     "output_type": "execute_result"
    }
   ],
   "source": [
    "nltk.download('punkt')"
   ]
  },
  {
   "cell_type": "code",
   "execution_count": 239,
   "metadata": {},
   "outputs": [],
   "source": [
    "data_train = pd.read_csv(\"dataset/train_preprocess.tsv\", sep='\\t')\n",
    "data_test = pd.read_csv(\"dataset/test_preprocess.tsv\", sep='\\t')"
   ]
  },
  {
   "cell_type": "code",
   "execution_count": 240,
   "metadata": {},
   "outputs": [
    {
     "name": "stdout",
     "output_type": "stream",
     "text": [
      "      warung ini dimiliki oleh pengusaha pabrik tahu yang sudah puluhan tahun terkenal membuat tahu putih di bandung . tahu berkualitas , dipadu keahlian memasak , dipadu kretivitas , jadilah warung yang menyajikan menu utama berbahan tahu , ditambah menu umum lain seperti ayam . semuanya selera indonesia . harga cukup terjangkau . jangan lewatkan tahu bletoka nya , tidak kalah dengan yang asli dari tegal !   \n",
      "0      mohon ulama lurus dan k212 mmbri hujjah partai...                                                                                                                                                                                                                                                                                                                                                                    \\\n",
      "1      lokasi strategis di jalan sumatera bandung . t...                                                                                                                                                                                                                                                                                                                                                                     \n",
      "2      betapa bahagia nya diri ini saat unboxing pake...                                                                                                                                                                                                                                                                                                                                                                     \n",
      "3      duh . jadi mahasiswa jangan sombong dong . kas...                                                                                                                                                                                                                                                                                                                                                                     \n",
      "4      makanan beragam , harga makanan di food stall ...                                                                                                                                                                                                                                                                                                                                                                     \n",
      "...                                                  ...                                                                                                                                                                                                                                                                                                                                                                     \n",
      "10994                                       tidak kecewa                                                                                                                                                                                                                                                                                                                                                                     \n",
      "10995  enak rasa masakan nya apalagi kepiting yang me...                                                                                                                                                                                                                                                                                                                                                                     \n",
      "10996        hormati partai-partai yang telah berkoalisi                                                                                                                                                                                                                                                                                                                                                                     \n",
      "10997  pagi pagi di tol pasteur sudah macet parah , b...                                                                                                                                                                                                                                                                                                                                                                     \n",
      "10998  meskipun sering belanja ke yogya di riau junct...                                                                                                                                                                                                                                                                                                                                                                     \n",
      "\n",
      "       positive  \n",
      "0       neutral  \n",
      "1      positive  \n",
      "2      positive  \n",
      "3      negative  \n",
      "4      positive  \n",
      "...         ...  \n",
      "10994  positive  \n",
      "10995  positive  \n",
      "10996   neutral  \n",
      "10997  negative  \n",
      "10998  positive  \n",
      "\n",
      "[10999 rows x 2 columns]\n"
     ]
    }
   ],
   "source": [
    "print(data_train)"
   ]
  },
  {
   "cell_type": "code",
   "execution_count": 241,
   "metadata": {},
   "outputs": [
    {
     "data": {
      "text/html": [
       "<div>\n",
       "<style scoped>\n",
       "    .dataframe tbody tr th:only-of-type {\n",
       "        vertical-align: middle;\n",
       "    }\n",
       "\n",
       "    .dataframe tbody tr th {\n",
       "        vertical-align: top;\n",
       "    }\n",
       "\n",
       "    .dataframe thead th {\n",
       "        text-align: right;\n",
       "    }\n",
       "</style>\n",
       "<table border=\"1\" class=\"dataframe\">\n",
       "  <thead>\n",
       "    <tr style=\"text-align: right;\">\n",
       "      <th></th>\n",
       "      <th>warung ini dimiliki oleh pengusaha pabrik tahu yang sudah puluhan tahun terkenal membuat tahu putih di bandung . tahu berkualitas , dipadu keahlian memasak , dipadu kretivitas , jadilah warung yang menyajikan menu utama berbahan tahu , ditambah menu umum lain seperti ayam . semuanya selera indonesia . harga cukup terjangkau . jangan lewatkan tahu bletoka nya , tidak kalah dengan yang asli dari tegal !</th>\n",
       "      <th>positive</th>\n",
       "    </tr>\n",
       "  </thead>\n",
       "  <tbody>\n",
       "    <tr>\n",
       "      <th>1</th>\n",
       "      <td>lokasi strategis di jalan sumatera bandung . t...</td>\n",
       "      <td>positive</td>\n",
       "    </tr>\n",
       "    <tr>\n",
       "      <th>2</th>\n",
       "      <td>betapa bahagia nya diri ini saat unboxing pake...</td>\n",
       "      <td>positive</td>\n",
       "    </tr>\n",
       "    <tr>\n",
       "      <th>4</th>\n",
       "      <td>makanan beragam , harga makanan di food stall ...</td>\n",
       "      <td>positive</td>\n",
       "    </tr>\n",
       "    <tr>\n",
       "      <th>6</th>\n",
       "      <td>tempat unik , bagus buat foto , makanan enak ,...</td>\n",
       "      <td>positive</td>\n",
       "    </tr>\n",
       "    <tr>\n",
       "      <th>7</th>\n",
       "      <td>saya bersama keluarga baru saja menikmati peng...</td>\n",
       "      <td>positive</td>\n",
       "    </tr>\n",
       "    <tr>\n",
       "      <th>...</th>\n",
       "      <td>...</td>\n",
       "      <td>...</td>\n",
       "    </tr>\n",
       "    <tr>\n",
       "      <th>10991</th>\n",
       "      <td>kalau memang jala nya sudah begitu terima saja...</td>\n",
       "      <td>positive</td>\n",
       "    </tr>\n",
       "    <tr>\n",
       "      <th>10993</th>\n",
       "      <td>tidak bosan</td>\n",
       "      <td>positive</td>\n",
       "    </tr>\n",
       "    <tr>\n",
       "      <th>10994</th>\n",
       "      <td>tidak kecewa</td>\n",
       "      <td>positive</td>\n",
       "    </tr>\n",
       "    <tr>\n",
       "      <th>10995</th>\n",
       "      <td>enak rasa masakan nya apalagi kepiting yang me...</td>\n",
       "      <td>positive</td>\n",
       "    </tr>\n",
       "    <tr>\n",
       "      <th>10998</th>\n",
       "      <td>meskipun sering belanja ke yogya di riau junct...</td>\n",
       "      <td>positive</td>\n",
       "    </tr>\n",
       "  </tbody>\n",
       "</table>\n",
       "<p>6415 rows × 2 columns</p>\n",
       "</div>"
      ],
      "text/plain": [
       "      warung ini dimiliki oleh pengusaha pabrik tahu yang sudah puluhan tahun terkenal membuat tahu putih di bandung . tahu berkualitas , dipadu keahlian memasak , dipadu kretivitas , jadilah warung yang menyajikan menu utama berbahan tahu , ditambah menu umum lain seperti ayam . semuanya selera indonesia . harga cukup terjangkau . jangan lewatkan tahu bletoka nya , tidak kalah dengan yang asli dari tegal !   \n",
       "1      lokasi strategis di jalan sumatera bandung . t...                                                                                                                                                                                                                                                                                                                                                                    \\\n",
       "2      betapa bahagia nya diri ini saat unboxing pake...                                                                                                                                                                                                                                                                                                                                                                     \n",
       "4      makanan beragam , harga makanan di food stall ...                                                                                                                                                                                                                                                                                                                                                                     \n",
       "6      tempat unik , bagus buat foto , makanan enak ,...                                                                                                                                                                                                                                                                                                                                                                     \n",
       "7      saya bersama keluarga baru saja menikmati peng...                                                                                                                                                                                                                                                                                                                                                                     \n",
       "...                                                  ...                                                                                                                                                                                                                                                                                                                                                                     \n",
       "10991  kalau memang jala nya sudah begitu terima saja...                                                                                                                                                                                                                                                                                                                                                                     \n",
       "10993                                        tidak bosan                                                                                                                                                                                                                                                                                                                                                                     \n",
       "10994                                       tidak kecewa                                                                                                                                                                                                                                                                                                                                                                     \n",
       "10995  enak rasa masakan nya apalagi kepiting yang me...                                                                                                                                                                                                                                                                                                                                                                     \n",
       "10998  meskipun sering belanja ke yogya di riau junct...                                                                                                                                                                                                                                                                                                                                                                     \n",
       "\n",
       "       positive  \n",
       "1      positive  \n",
       "2      positive  \n",
       "4      positive  \n",
       "6      positive  \n",
       "7      positive  \n",
       "...         ...  \n",
       "10991  positive  \n",
       "10993  positive  \n",
       "10994  positive  \n",
       "10995  positive  \n",
       "10998  positive  \n",
       "\n",
       "[6415 rows x 2 columns]"
      ]
     },
     "execution_count": 241,
     "metadata": {},
     "output_type": "execute_result"
    }
   ],
   "source": [
    "positive_data = data_train[data_train.iloc[:, 1] == 'positive']\n",
    "positive_data"
   ]
  },
  {
   "cell_type": "code",
   "execution_count": 242,
   "metadata": {},
   "outputs": [
    {
     "data": {
      "text/html": [
       "<div>\n",
       "<style scoped>\n",
       "    .dataframe tbody tr th:only-of-type {\n",
       "        vertical-align: middle;\n",
       "    }\n",
       "\n",
       "    .dataframe tbody tr th {\n",
       "        vertical-align: top;\n",
       "    }\n",
       "\n",
       "    .dataframe thead th {\n",
       "        text-align: right;\n",
       "    }\n",
       "</style>\n",
       "<table border=\"1\" class=\"dataframe\">\n",
       "  <thead>\n",
       "    <tr style=\"text-align: right;\">\n",
       "      <th></th>\n",
       "      <th>warung ini dimiliki oleh pengusaha pabrik tahu yang sudah puluhan tahun terkenal membuat tahu putih di bandung . tahu berkualitas , dipadu keahlian memasak , dipadu kretivitas , jadilah warung yang menyajikan menu utama berbahan tahu , ditambah menu umum lain seperti ayam . semuanya selera indonesia . harga cukup terjangkau . jangan lewatkan tahu bletoka nya , tidak kalah dengan yang asli dari tegal !</th>\n",
       "      <th>positive</th>\n",
       "    </tr>\n",
       "  </thead>\n",
       "  <tbody>\n",
       "    <tr>\n",
       "      <th>3</th>\n",
       "      <td>duh . jadi mahasiswa jangan sombong dong . kas...</td>\n",
       "      <td>negative</td>\n",
       "    </tr>\n",
       "    <tr>\n",
       "      <th>5</th>\n",
       "      <td>pakai kartu kredit bca tidak untung malah rugi...</td>\n",
       "      <td>negative</td>\n",
       "    </tr>\n",
       "    <tr>\n",
       "      <th>9</th>\n",
       "      <td>simcard indosat inaktiv gara-gara lupa isi pul...</td>\n",
       "      <td>negative</td>\n",
       "    </tr>\n",
       "    <tr>\n",
       "      <th>10</th>\n",
       "      <td>sifat iri sering muncul pada orang orang yang ...</td>\n",
       "      <td>negative</td>\n",
       "    </tr>\n",
       "    <tr>\n",
       "      <th>12</th>\n",
       "      <td>pengalaman bersama indosat hari ini , semoga t...</td>\n",
       "      <td>negative</td>\n",
       "    </tr>\n",
       "    <tr>\n",
       "      <th>...</th>\n",
       "      <td>...</td>\n",
       "      <td>...</td>\n",
       "    </tr>\n",
       "    <tr>\n",
       "      <th>10981</th>\n",
       "      <td>tolong dibaca pesan saya ! di dalam kotak hand...</td>\n",
       "      <td>negative</td>\n",
       "    </tr>\n",
       "    <tr>\n",
       "      <th>10984</th>\n",
       "      <td>sumpah gue kecewa banget dengan sms , cuma tea...</td>\n",
       "      <td>negative</td>\n",
       "    </tr>\n",
       "    <tr>\n",
       "      <th>10988</th>\n",
       "      <td>tadinya pengin mengantar teman dari kalau ke r...</td>\n",
       "      <td>negative</td>\n",
       "    </tr>\n",
       "    <tr>\n",
       "      <th>10990</th>\n",
       "      <td>dapat rom awal abad</td>\n",
       "      <td>negative</td>\n",
       "    </tr>\n",
       "    <tr>\n",
       "      <th>10997</th>\n",
       "      <td>pagi pagi di tol pasteur sudah macet parah , b...</td>\n",
       "      <td>negative</td>\n",
       "    </tr>\n",
       "  </tbody>\n",
       "</table>\n",
       "<p>3436 rows × 2 columns</p>\n",
       "</div>"
      ],
      "text/plain": [
       "      warung ini dimiliki oleh pengusaha pabrik tahu yang sudah puluhan tahun terkenal membuat tahu putih di bandung . tahu berkualitas , dipadu keahlian memasak , dipadu kretivitas , jadilah warung yang menyajikan menu utama berbahan tahu , ditambah menu umum lain seperti ayam . semuanya selera indonesia . harga cukup terjangkau . jangan lewatkan tahu bletoka nya , tidak kalah dengan yang asli dari tegal !   \n",
       "3      duh . jadi mahasiswa jangan sombong dong . kas...                                                                                                                                                                                                                                                                                                                                                                    \\\n",
       "5      pakai kartu kredit bca tidak untung malah rugi...                                                                                                                                                                                                                                                                                                                                                                     \n",
       "9      simcard indosat inaktiv gara-gara lupa isi pul...                                                                                                                                                                                                                                                                                                                                                                     \n",
       "10     sifat iri sering muncul pada orang orang yang ...                                                                                                                                                                                                                                                                                                                                                                     \n",
       "12     pengalaman bersama indosat hari ini , semoga t...                                                                                                                                                                                                                                                                                                                                                                     \n",
       "...                                                  ...                                                                                                                                                                                                                                                                                                                                                                     \n",
       "10981  tolong dibaca pesan saya ! di dalam kotak hand...                                                                                                                                                                                                                                                                                                                                                                     \n",
       "10984  sumpah gue kecewa banget dengan sms , cuma tea...                                                                                                                                                                                                                                                                                                                                                                     \n",
       "10988  tadinya pengin mengantar teman dari kalau ke r...                                                                                                                                                                                                                                                                                                                                                                     \n",
       "10990                                dapat rom awal abad                                                                                                                                                                                                                                                                                                                                                                     \n",
       "10997  pagi pagi di tol pasteur sudah macet parah , b...                                                                                                                                                                                                                                                                                                                                                                     \n",
       "\n",
       "       positive  \n",
       "3      negative  \n",
       "5      negative  \n",
       "9      negative  \n",
       "10     negative  \n",
       "12     negative  \n",
       "...         ...  \n",
       "10981  negative  \n",
       "10984  negative  \n",
       "10988  negative  \n",
       "10990  negative  \n",
       "10997  negative  \n",
       "\n",
       "[3436 rows x 2 columns]"
      ]
     },
     "execution_count": 242,
     "metadata": {},
     "output_type": "execute_result"
    }
   ],
   "source": [
    "negative_data = data_train[data_train.iloc[:, 1] == 'negative']\n",
    "negative_data"
   ]
  },
  {
   "cell_type": "code",
   "execution_count": 243,
   "metadata": {},
   "outputs": [
    {
     "data": {
      "text/html": [
       "<div>\n",
       "<style scoped>\n",
       "    .dataframe tbody tr th:only-of-type {\n",
       "        vertical-align: middle;\n",
       "    }\n",
       "\n",
       "    .dataframe tbody tr th {\n",
       "        vertical-align: top;\n",
       "    }\n",
       "\n",
       "    .dataframe thead th {\n",
       "        text-align: right;\n",
       "    }\n",
       "</style>\n",
       "<table border=\"1\" class=\"dataframe\">\n",
       "  <thead>\n",
       "    <tr style=\"text-align: right;\">\n",
       "      <th></th>\n",
       "      <th>warung ini dimiliki oleh pengusaha pabrik tahu yang sudah puluhan tahun terkenal membuat tahu putih di bandung . tahu berkualitas , dipadu keahlian memasak , dipadu kretivitas , jadilah warung yang menyajikan menu utama berbahan tahu , ditambah menu umum lain seperti ayam . semuanya selera indonesia . harga cukup terjangkau . jangan lewatkan tahu bletoka nya , tidak kalah dengan yang asli dari tegal !</th>\n",
       "      <th>positive</th>\n",
       "    </tr>\n",
       "  </thead>\n",
       "  <tbody>\n",
       "    <tr>\n",
       "      <th>0</th>\n",
       "      <td>mohon ulama lurus dan k212 mmbri hujjah partai...</td>\n",
       "      <td>neutral</td>\n",
       "    </tr>\n",
       "    <tr>\n",
       "      <th>15</th>\n",
       "      <td>setiap bumn dibentuk dengan uu bukan dibentuk ...</td>\n",
       "      <td>neutral</td>\n",
       "    </tr>\n",
       "    <tr>\n",
       "      <th>27</th>\n",
       "      <td>pdip sebut ridwan kamil menang karena berbaju ...</td>\n",
       "      <td>neutral</td>\n",
       "    </tr>\n",
       "    <tr>\n",
       "      <th>31</th>\n",
       "      <td>08:30 : kedatangan presiden ri dan rombongan d...</td>\n",
       "      <td>neutral</td>\n",
       "    </tr>\n",
       "    <tr>\n",
       "      <th>36</th>\n",
       "      <td>risma menjatuhkan pilihan nya pada gus ipul - ...</td>\n",
       "      <td>neutral</td>\n",
       "    </tr>\n",
       "    <tr>\n",
       "      <th>...</th>\n",
       "      <td>...</td>\n",
       "      <td>...</td>\n",
       "    </tr>\n",
       "    <tr>\n",
       "      <th>10924</th>\n",
       "      <td>pkb benarkan charly setia band daftar jadi caw...</td>\n",
       "      <td>neutral</td>\n",
       "    </tr>\n",
       "    <tr>\n",
       "      <th>10966</th>\n",
       "      <td>pernah percaya kalau body lotion citra bikin b...</td>\n",
       "      <td>neutral</td>\n",
       "    </tr>\n",
       "    <tr>\n",
       "      <th>10968</th>\n",
       "      <td>bu susi marah , menteri luhut perbolehkan kapa...</td>\n",
       "      <td>neutral</td>\n",
       "    </tr>\n",
       "    <tr>\n",
       "      <th>10992</th>\n",
       "      <td>f - demokrat dorong upaya kemandirian energi n...</td>\n",
       "      <td>neutral</td>\n",
       "    </tr>\n",
       "    <tr>\n",
       "      <th>10996</th>\n",
       "      <td>hormati partai-partai yang telah berkoalisi</td>\n",
       "      <td>neutral</td>\n",
       "    </tr>\n",
       "  </tbody>\n",
       "</table>\n",
       "<p>1148 rows × 2 columns</p>\n",
       "</div>"
      ],
      "text/plain": [
       "      warung ini dimiliki oleh pengusaha pabrik tahu yang sudah puluhan tahun terkenal membuat tahu putih di bandung . tahu berkualitas , dipadu keahlian memasak , dipadu kretivitas , jadilah warung yang menyajikan menu utama berbahan tahu , ditambah menu umum lain seperti ayam . semuanya selera indonesia . harga cukup terjangkau . jangan lewatkan tahu bletoka nya , tidak kalah dengan yang asli dari tegal !   \n",
       "0      mohon ulama lurus dan k212 mmbri hujjah partai...                                                                                                                                                                                                                                                                                                                                                                    \\\n",
       "15     setiap bumn dibentuk dengan uu bukan dibentuk ...                                                                                                                                                                                                                                                                                                                                                                     \n",
       "27     pdip sebut ridwan kamil menang karena berbaju ...                                                                                                                                                                                                                                                                                                                                                                     \n",
       "31     08:30 : kedatangan presiden ri dan rombongan d...                                                                                                                                                                                                                                                                                                                                                                     \n",
       "36     risma menjatuhkan pilihan nya pada gus ipul - ...                                                                                                                                                                                                                                                                                                                                                                     \n",
       "...                                                  ...                                                                                                                                                                                                                                                                                                                                                                     \n",
       "10924  pkb benarkan charly setia band daftar jadi caw...                                                                                                                                                                                                                                                                                                                                                                     \n",
       "10966  pernah percaya kalau body lotion citra bikin b...                                                                                                                                                                                                                                                                                                                                                                     \n",
       "10968  bu susi marah , menteri luhut perbolehkan kapa...                                                                                                                                                                                                                                                                                                                                                                     \n",
       "10992  f - demokrat dorong upaya kemandirian energi n...                                                                                                                                                                                                                                                                                                                                                                     \n",
       "10996        hormati partai-partai yang telah berkoalisi                                                                                                                                                                                                                                                                                                                                                                     \n",
       "\n",
       "      positive  \n",
       "0      neutral  \n",
       "15     neutral  \n",
       "27     neutral  \n",
       "31     neutral  \n",
       "36     neutral  \n",
       "...        ...  \n",
       "10924  neutral  \n",
       "10966  neutral  \n",
       "10968  neutral  \n",
       "10992  neutral  \n",
       "10996  neutral  \n",
       "\n",
       "[1148 rows x 2 columns]"
      ]
     },
     "execution_count": 243,
     "metadata": {},
     "output_type": "execute_result"
    }
   ],
   "source": [
    "neutral_data = data_train[data_train.iloc[:, 1] == 'neutral']\n",
    "neutral_data"
   ]
  },
  {
   "cell_type": "markdown",
   "metadata": {},
   "source": [
    "## Preprocessing"
   ]
  },
  {
   "cell_type": "code",
   "execution_count": 244,
   "metadata": {},
   "outputs": [],
   "source": [
    "import re\n",
    "\n",
    "# Fungsi untuk membersihkan teks\n",
    "def clean_data(text):\n",
    "    # Inisialisasi variabel untuk normalisasi teks\n",
    "    normal_tw = text\n",
    "\n",
    "    # Mengubah teks menjadi huruf kecil\n",
    "    normal_tw = normal_tw.lower()\n",
    "    \n",
    "    # Hapus emoji\n",
    "    normal_tw = re.sub(r'\\\\x.{2}', '', normal_tw)\n",
    "    # Hapus www.* atau https?://* (URL)\n",
    "    normal_tw = re.sub(r'((www\\.[^\\s]*)|(https?://[^\\s]*))', '', normal_tw)\n",
    "    # Trim depan belakang\n",
    "    normal_tw = normal_tw.strip()\n",
    "    # Hapus @username\n",
    "    normal_tw = re.sub(r'@[^\\s]+', '', normal_tw)\n",
    "    # Hapus hashtag\n",
    "    normal_tw = re.sub(r'#[^\\s]+', '', normal_tw)\n",
    "    # Hapus underscore\n",
    "    normal_tw = re.sub(r'[_]+', '', normal_tw)\n",
    "    # Hapus huruf yang tidak terdefinisi\n",
    "    normal_tw = re.sub(r'[Ã°Âã¯¹¢²ðƒâ]', '', normal_tw) \n",
    "    # Regex untuk huruf yang berulang (kaya haiiii untuk fitur unigram)\n",
    "    normal_regex = re.compile(r\"(.)\\1{1,}\")\n",
    "    # Buang huruf yang berulang\n",
    "    normal_tw = normal_regex.sub(r\"\\1\\1\", normal_tw)\n",
    "    # Remove spasi berlebih (whitespace character)\n",
    "    normal_tw = re.sub(r'\\s+', ' ', normal_tw)\n",
    "    # Trim lagi untuk menghilangkan spasi di awal dan akhir\n",
    "    normal_tw = normal_tw.strip()\n",
    "    \n",
    "    # Mengembalikan teks yang telah dibersihkan\n",
    "    return normal_tw\n"
   ]
  },
  {
   "cell_type": "code",
   "execution_count": 245,
   "metadata": {},
   "outputs": [],
   "source": [
    "import re\n",
    "\n",
    "def remove_space(text):\n",
    "    # Menghapus spasi berlebih secara umum\n",
    "    normal_tw = re.sub(r'\\s+', ' ', text)  \n",
    "    normal_tw = normal_tw.strip()  \n",
    "\n",
    "    # Menghapus spasi setelah tanda baca\n",
    "    normal_tw = re.sub(r'([.,!?;:])\\s+', r'\\1 ', normal_tw)  \n",
    "    normal_tw = re.sub(r'\\s*([.,!?;:])', r'\\1', normal_tw)  \n",
    "\n",
    "    return normal_tw\n"
   ]
  },
  {
   "cell_type": "code",
   "execution_count": 246,
   "metadata": {},
   "outputs": [],
   "source": [
    "def preprocess(text):\n",
    "    # Membersihkan\n",
    "    processed_text = clean_data(text)\n",
    "    # Ubah menjadi lowercase\n",
    "    processed_text = processed_text.lower()\n",
    "    # Menghailangkan spasi berlebih\n",
    "    processed_text = remove_space(processed_text)\n",
    "\n",
    "    return processed_text"
   ]
  },
  {
   "cell_type": "code",
   "execution_count": 247,
   "metadata": {},
   "outputs": [],
   "source": [
    "import nltk"
   ]
  },
  {
   "cell_type": "code",
   "execution_count": 248,
   "metadata": {},
   "outputs": [
    {
     "name": "stderr",
     "output_type": "stream",
     "text": [
      "[nltk_data] Downloading package punkt_tab to\n",
      "[nltk_data]     C:\\Users\\HP\\AppData\\Roaming\\nltk_data...\n",
      "[nltk_data]   Package punkt_tab is already up-to-date!\n"
     ]
    },
    {
     "data": {
      "text/plain": [
       "True"
      ]
     },
     "execution_count": 248,
     "metadata": {},
     "output_type": "execute_result"
    }
   ],
   "source": [
    "nltk.download('punkt_tab')"
   ]
  },
  {
   "cell_type": "code",
   "execution_count": 249,
   "metadata": {},
   "outputs": [
    {
     "name": "stdout",
     "output_type": "stream",
     "text": [
      "text awal:\t kayak nya sih gue tidak akan mau balik lagi ke tempat itu . gila , ya , gue enggak ngerti kenapa tempat nya dibiarkan panas . sudah begitu kotor pula . kalau panas kepanasan , kalau hujan kehujanan . harus nya sih tidak ada restoran yang kayak gitu . tidak tahu deh apa yang mereka jual .\n",
      "setelah proses:\t kayak nya sih gue tidak akan mau balik lagi ke tempat itu. gila, ya, gue enggak ngerti kenapa tempat nya dibiarkan panas. sudah begitu kotor pula. kalau panas kepanasan, kalau hujan kehujanan. harus nya sih tidak ada restoran yang kayak gitu. tidak tahu deh apa yang mereka jual.\n",
      "text awal:\t kalau dipikir-pikir , sebenarnya tidak ada yang bisa dibanggakan dari jokowi . pertama , dia tidak bisa nepatin janji . kedua , kerjaan nya selalu pencitraan . ketiga , dia tidak pro rakyat . sudahlah . ku sudah terlanjur kecewa .\n",
      "setelah proses:\t kalau dipikir-pikir, sebenarnya tidak ada yang bisa dibanggakan dari jokowi. pertama, dia tidak bisa nepatin janji. kedua, kerjaan nya selalu pencitraan. ketiga, dia tidak pro rakyat. sudahlah. ku sudah terlanjur kecewa.\n",
      "text awal:\t ini pertama kalinya gua ke bank buat ngurusin pembuatan rekening baru . nama nya juga orang pertama kali ya baru ke bank , gua kena semprot . kelihatan banget pelayanan pelanggan - nya tidak suka gua banyak bertanya . amit-amit . padahal itu kan tugas mereka buat melayangkan gua !\n",
      "setelah proses:\t ini pertama kalinya gua ke bank buat ngurusin pembuatan rekening baru. nama nya juga orang pertama kali ya baru ke bank, gua kena semprot. kelihatan banget pelayanan pelanggan - nya tidak suka gua banyak bertanya. amit-amit. padahal itu kan tugas mereka buat melayangkan gua!\n",
      "text awal:\t waktu sampai dengan gue pernah disuruh ibu latihan karate . kata nya biar gue bisa melawan penjahat kalau ada laki-laki iseng , tapi di hari pertama latihan , kaki gue langsung cedera . jadilah sekarang trauma dan tidak mau sekali-sekali buat latihan karate lagi .\n",
      "setelah proses:\t waktu sampai dengan gue pernah disuruh ibu latihan karate. kata nya biar gue bisa melawan penjahat kalau ada laki-laki iseng, tapi di hari pertama latihan, kaki gue langsung cedera. jadilah sekarang trauma dan tidak mau sekali-sekali buat latihan karate lagi.\n",
      "text awal:\t pelayanan di hotel salak bogor tidak sebagus yang gue membayangkan . fasilitas nya juga biasa banget padahal kata nya hotel bintang lima . hm . kecewa . kayak nya sih nanti-nanti tidak mau ke sana lagi .\n",
      "setelah proses:\t pelayanan di hotel salak bogor tidak sebagus yang gue membayangkan. fasilitas nya juga biasa banget padahal kata nya hotel bintang lima. hm. kecewa. kayak nya sih nanti-nanti tidak mau ke sana lagi.\n",
      "text awal:\t ada apa dengan young lex ? kenapa dia harus mengirim hal-hal tidak berfaedah kayak gitu . merusak moral banget sumpah !\n",
      "setelah proses:\t ada apa dengan young lex? kenapa dia harus mengirim hal-hal tidak berfaedah kayak gitu. merusak moral banget sumpah!\n",
      "text awal:\t gue pesimis sama manusia , terutama dalam ngurusin sampah . sudah berapa banyak hewan-hewan laut jadi korban gara-gara kita buang sampah ke laut . tidak tega gue liat nya . kadang tidak mengerti juga sebenarnya pemimpin-pemimpin yang ada itu pada mikirin enggak sih urusan penting kayak gini . he .\n",
      "setelah proses:\t gue pesimis sama manusia, terutama dalam ngurusin sampah. sudah berapa banyak hewan-hewan laut jadi korban gara-gara kita buang sampah ke laut. tidak tega gue liat nya. kadang tidak mengerti juga sebenarnya pemimpin-pemimpin yang ada itu pada mikirin enggak sih urusan penting kayak gini. he.\n",
      "text awal:\t saya kecewa karena pengeditan biodata penumpang dilakukan by sistem tanpa konfirmasi dan solusi permasalahan nya pun dianggap sepele karena dibiarkan begitu saja sedang pelayanan pelanggan yang sudah berkali-berkali dihubungi pun hanya seperti mengulur waktu . sampai detik ini belum ada solusi untuk masalah saya yang kesalahan nya sendiri bukan dari pihak saya .\n",
      "setelah proses:\t saya kecewa karena pengeditan biodata penumpang dilakukan by sistem tanpa konfirmasi dan solusi permasalahan nya pun dianggap sepele karena dibiarkan begitu saja sedang pelayanan pelanggan yang sudah berkali-berkali dihubungi pun hanya seperti mengulur waktu. sampai detik ini belum ada solusi untuk masalah saya yang kesalahan nya sendiri bukan dari pihak saya.\n",
      "text awal:\t saya hari ini melakukan pemesanan dan tiket saya tidak kunjung saya terima . padahal saya sudah menelpon pelayanan pelanggan , sudah mengirimkan email dengan bukti transfer tapi respon nya sangat lambat dan tidak jelas .\n",
      "setelah proses:\t saya hari ini melakukan pemesanan dan tiket saya tidak kunjung saya terima. padahal saya sudah menelpon pelayanan pelanggan, sudah mengirimkan email dengan bukti transfer tapi respon nya sangat lambat dan tidak jelas.\n",
      "text awal:\t sangat merugikan , saya sudah memesan dan membayar tetapi e - tiket tidak ada juga , padahal bukti pembayaran sudah jelas , sudah menelepon pelayanan pelanggan berkali kali dan tidak ada solusi nya , pulsa sudah habis ratusan ribu , saya meminta kembalikan uang juga sangat lama proses nya , sangat merugikan pengguna , banyak kerugian uang transport , waktu , penginapan dll.\n",
      "setelah proses:\t sangat merugikan, saya sudah memesan dan membayar tetapi e - tiket tidak ada juga, padahal bukti pembayaran sudah jelas, sudah menelepon pelayanan pelanggan berkali kali dan tidak ada solusi nya, pulsa sudah habis ratusan ribu, saya meminta kembalikan uang juga sangat lama proses nya, sangat merugikan pengguna, banyak kerugian uang transport, waktu, penginapan dll.\n"
     ]
    }
   ],
   "source": [
    "# Loop melalui 10 baris pertama dari kolom pertama di data_test\n",
    "for text in data_test.iloc[:10, 0]:\n",
    "    print(\"text awal:\\t\", text)\n",
    "    print(\"setelah proses:\\t\", preprocess(text))\n"
   ]
  }
 ],
 "metadata": {
  "kernelspec": {
   "display_name": "Python 3",
   "language": "python",
   "name": "python3"
  },
  "language_info": {
   "codemirror_mode": {
    "name": "ipython",
    "version": 3
   },
   "file_extension": ".py",
   "mimetype": "text/x-python",
   "name": "python",
   "nbconvert_exporter": "python",
   "pygments_lexer": "ipython3",
   "version": "3.10.10"
  }
 },
 "nbformat": 4,
 "nbformat_minor": 2
}
