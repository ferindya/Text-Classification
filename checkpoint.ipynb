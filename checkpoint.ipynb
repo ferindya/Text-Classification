{
 "cells": [
  {
   "cell_type": "code",
   "execution_count": 16,
   "metadata": {},
   "outputs": [
    {
     "name": "stderr",
     "output_type": "stream",
     "text": [
      "[nltk_data] Downloading package stopwords to\n",
      "[nltk_data]     C:\\Users\\HP\\AppData\\Roaming\\nltk_data...\n",
      "[nltk_data]   Package stopwords is already up-to-date!\n",
      "[nltk_data] Downloading package punkt to\n",
      "[nltk_data]     C:\\Users\\HP\\AppData\\Roaming\\nltk_data...\n",
      "[nltk_data]   Package punkt is already up-to-date!\n"
     ]
    },
    {
     "data": {
      "text/plain": [
       "True"
      ]
     },
     "execution_count": 16,
     "metadata": {},
     "output_type": "execute_result"
    }
   ],
   "source": [
    "import pandas as pd\n",
    "import nltk\n",
    "import re\n",
    "from nltk.corpus import stopwords\n",
    "from imblearn.over_sampling import RandomOverSampler\n",
    "from imblearn.under_sampling import RandomUnderSampler\n",
    "from imblearn.pipeline import Pipeline as ImbPipeline\n",
    "from sklearn.feature_extraction.text import CountVectorizer\n",
    "from sklearn.model_selection import train_test_split\n",
    "from sklearn.metrics import classification_report, accuracy_score, precision_score, recall_score, f1_score\n",
    "from sklearn.linear_model import LogisticRegression\n",
    "from sklearn.model_selection import GridSearchCV\n",
    "from sklearn.naive_bayes import MultinomialNB\n",
    "from sklearn.svm import SVC\n",
    "\n",
    "nltk.download('stopwords')\n",
    "nltk.download('punkt')"
   ]
  },
  {
   "cell_type": "markdown",
   "metadata": {},
   "source": [
    "## Preprocessing"
   ]
  },
  {
   "cell_type": "code",
   "execution_count": 17,
   "metadata": {},
   "outputs": [],
   "source": [
    "# List of stopwords in indonesian\n",
    "stop_words = set(stopwords.words('indonesian'))\n",
    "\n",
    "# Function to preprocess text\n",
    "def preprocess_text(text):\n",
    "    text = text.lower()\n",
    "    tokens = text.split()\n",
    "    tokens = [word for word in tokens if word not in stop_words]\n",
    "    clean_data = ' '.join(tokens)\n",
    "    return clean_data\n",
    "\n",
    "# Load dataset\n",
    "data_train = pd.read_csv(\"dataset/train_preprocess.tsv\", sep='\\t', header=None, names=['text', 'label'])\n",
    "data_test = pd.read_csv(\"dataset/test_preprocess.tsv\", sep='\\t', header=None, names=['text', 'label'])\n",
    "\n",
    "# Preprocess text\n",
    "data_train['text'] = data_train['text'].apply(preprocess_text)\n",
    "data_test['text'] = data_test['text'].apply(preprocess_text)"
   ]
  },
  {
   "cell_type": "code",
   "execution_count": 18,
   "metadata": {},
   "outputs": [],
   "source": [
    "# Feature extraction with bag of words\n",
    "vectorizer = CountVectorizer()\n",
    "\n",
    "# Split data train and data test\n",
    "X_train, X_test, y_train, y_test = train_test_split(data_train['text'], data_train['label'], test_size=0.2, random_state=42)"
   ]
  },
  {
   "cell_type": "code",
   "execution_count": 19,
   "metadata": {},
   "outputs": [],
   "source": [
    "# Oversampler to balance the data\n",
    "oversampler = RandomOverSampler(random_state=42)\n",
    "\n",
    "# Pipeline SVM with oversampling\n",
    "pipeline_svm = ImbPipeline([\n",
    "    ('vectorizer',vectorizer), \n",
    "    ('oversampler', oversampler),\n",
    "    ('classifier', SVC())])\n",
    "\n",
    "# Pipeline Naive Bayes\n",
    "pipeline_nb = ImbPipeline([\n",
    "    ('vectorizer', vectorizer),\n",
    "    ('oversampler', oversampler),\n",
    "    ('classifier', MultinomialNB())\n",
    "])\n",
    "\n",
    "# Pipeline Logistic Regression\n",
    "pipeline_logreg = ImbPipeline([\n",
    "    ('vectorizer', vectorizer),\n",
    "    ('oversampler', oversampler),\n",
    "    ('classifier', LogisticRegression(max_iter=1000))\n",
    "])\n",
    "\n",
    "# Hyperparameter tuning for Logistic Regression\n",
    "logreg_param_grid = {\n",
    "    'classifier__C': [0.1, 1, 10],\n",
    "    'classifier__solver': ['liblinear', 'lbfgs']}\n",
    "\n",
    "logreg_grid = GridSearchCV(pipeline_logreg, logreg_param_grid, cv=5)\n"
   ]
  },
  {
   "cell_type": "markdown",
   "metadata": {},
   "source": [
    "## Train and Evaluating Model"
   ]
  },
  {
   "cell_type": "code",
   "execution_count": 20,
   "metadata": {},
   "outputs": [],
   "source": [
    "# Function to train and evaluating model\n",
    "def train_and_evaluate(model, X_train, X_test, y_train, y_test, model_name):\n",
    "    model.fit(X_train, y_train)\n",
    "    y_pred = model.predict(X_test)\n",
    "\n",
    "    # Show classification report\n",
    "    print(f\"Model: {model_name}\")\n",
    "    print(f\"Accuracy: {accuracy_score(y_test, y_pred)}\")\n",
    "    print(f\"Precision: {precision_score(y_test, y_pred, average='weighted')}\")\n",
    "    print(f\"Recall: {recall_score(y_test, y_pred, average='weighted')}\")\n",
    "    print(f\"F1 Score: {f1_score(y_test, y_pred, average='weighted')}\")\n",
    "    print(classification_report(y_test, y_pred))"
   ]
  },
  {
   "cell_type": "markdown",
   "metadata": {},
   "source": [
    "## Evaluated Model with Naive Bayes"
   ]
  },
  {
   "cell_type": "code",
   "execution_count": 21,
   "metadata": {},
   "outputs": [
    {
     "name": "stdout",
     "output_type": "stream",
     "text": [
      "Model: Naive Bayes\n",
      "Accuracy: 0.8313636363636364\n",
      "Precision: 0.8303951673296521\n",
      "Recall: 0.8313636363636364\n",
      "F1 Score: 0.8306650149195587\n",
      "              precision    recall  f1-score   support\n",
      "\n",
      "    negative       0.78      0.74      0.76       680\n",
      "     neutral       0.74      0.76      0.75       239\n",
      "    positive       0.87      0.89      0.88      1281\n",
      "\n",
      "    accuracy                           0.83      2200\n",
      "   macro avg       0.80      0.80      0.80      2200\n",
      "weighted avg       0.83      0.83      0.83      2200\n",
      "\n"
     ]
    }
   ],
   "source": [
    "# Evaluated model with Naive Bayes\n",
    "train_and_evaluate(pipeline_nb, X_train, X_test, y_train, y_test, \"Naive Bayes\")\n"
   ]
  },
  {
   "cell_type": "markdown",
   "metadata": {},
   "source": [
    "## Evaluated Model with Logistic Regression"
   ]
  },
  {
   "cell_type": "code",
   "execution_count": 22,
   "metadata": {},
   "outputs": [
    {
     "name": "stdout",
     "output_type": "stream",
     "text": [
      "Model: Logistic Regression (with tuning)\n",
      "Accuracy: 0.8418181818181818\n",
      "Precision: 0.8466360088430017\n",
      "Recall: 0.8418181818181818\n",
      "F1 Score: 0.8434669697208951\n",
      "              precision    recall  f1-score   support\n",
      "\n",
      "    negative       0.77      0.81      0.79       680\n",
      "     neutral       0.72      0.80      0.76       239\n",
      "    positive       0.91      0.87      0.89      1281\n",
      "\n",
      "    accuracy                           0.84      2200\n",
      "   macro avg       0.80      0.83      0.81      2200\n",
      "weighted avg       0.85      0.84      0.84      2200\n",
      "\n"
     ]
    }
   ],
   "source": [
    "# Evaluated model with Logistic Regression after tuning hyperparameter with Grid Search\n",
    "logreg_grid.fit(X_train, y_train) \n",
    "train_and_evaluate(logreg_grid, X_train, X_test, y_train, y_test, \"Logistic Regression (with tuning)\")\n"
   ]
  },
  {
   "cell_type": "markdown",
   "metadata": {},
   "source": [
    "## Evaluated Model with SVM"
   ]
  },
  {
   "cell_type": "code",
   "execution_count": 23,
   "metadata": {},
   "outputs": [
    {
     "name": "stdout",
     "output_type": "stream",
     "text": [
      "Model: SVM\n",
      "Accuracy: 0.8340909090909091\n",
      "Precision: 0.8352122612486028\n",
      "Recall: 0.8340909090909091\n",
      "F1 Score: 0.8345824905037513\n",
      "              precision    recall  f1-score   support\n",
      "\n",
      "    negative       0.75      0.77      0.76       680\n",
      "     neutral       0.78      0.77      0.77       239\n",
      "    positive       0.89      0.88      0.89      1281\n",
      "\n",
      "    accuracy                           0.83      2200\n",
      "   macro avg       0.81      0.81      0.81      2200\n",
      "weighted avg       0.84      0.83      0.83      2200\n",
      "\n"
     ]
    }
   ],
   "source": [
    "# Evaluated model with SVM\n",
    "train_and_evaluate(pipeline_svm, X_train, X_test, y_train, y_test, \"SVM\")"
   ]
  }
 ],
 "metadata": {
  "kernelspec": {
   "display_name": "Python 3",
   "language": "python",
   "name": "python3"
  },
  "language_info": {
   "codemirror_mode": {
    "name": "ipython",
    "version": 3
   },
   "file_extension": ".py",
   "mimetype": "text/x-python",
   "name": "python",
   "nbconvert_exporter": "python",
   "pygments_lexer": "ipython3",
   "version": "3.10.10"
  }
 },
 "nbformat": 4,
 "nbformat_minor": 2
}
