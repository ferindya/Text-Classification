{
 "cells": [
  {
   "cell_type": "code",
   "execution_count": 46,
   "metadata": {},
   "outputs": [
    {
     "name": "stderr",
     "output_type": "stream",
     "text": [
      "[nltk_data] Downloading package stopwords to\n",
      "[nltk_data]     C:\\Users\\HP\\AppData\\Roaming\\nltk_data...\n",
      "[nltk_data]   Package stopwords is already up-to-date!\n",
      "[nltk_data] Downloading package punkt to\n",
      "[nltk_data]     C:\\Users\\HP\\AppData\\Roaming\\nltk_data...\n",
      "[nltk_data]   Package punkt is already up-to-date!\n"
     ]
    },
    {
     "data": {
      "text/plain": [
       "True"
      ]
     },
     "execution_count": 46,
     "metadata": {},
     "output_type": "execute_result"
    }
   ],
   "source": [
    "import pandas as pd\n",
    "import nltk\n",
    "import re\n",
    "from nltk.corpus import stopwords\n",
    "from sklearn.feature_extraction.text import CountVectorizer\n",
    "from sklearn.model_selection import train_test_split\n",
    "from sklearn.metrics import classification_report, accuracy_score, precision_score, recall_score, f1_score\n",
    "from sklearn.linear_model import LogisticRegression\n",
    "from sklearn.neighbors import KNeighborsClassifier\n",
    "from sklearn.svm import SVC\n",
    "\n",
    "nltk.download('stopwords')\n",
    "nltk.download('punkt')"
   ]
  },
  {
   "cell_type": "markdown",
   "metadata": {},
   "source": [
    "## Preprocessing"
   ]
  },
  {
   "cell_type": "code",
   "execution_count": 47,
   "metadata": {},
   "outputs": [],
   "source": [
    "# List of stopwords in indonesian\n",
    "stop_words = set(stopwords.words('indonesian'))\n",
    "\n",
    "# Function to preprocess text\n",
    "def preprocess_text(text):\n",
    "    text = text.lower()\n",
    "    tokens = text.split()\n",
    "    tokens_without_stopwords = [word for word in tokens if word not in stop_words] # Stop-word removal\n",
    "    clean_data = ' '.join(tokens_without_stopwords)\n",
    "    return clean_data\n",
    "\n",
    "# Load dataset\n",
    "data_train = pd.read_csv(\"dataset/train_preprocess.tsv\", sep='\\t', header=None)\n",
    "data_valid = pd.read_csv(\"dataset/valid_preprocess.tsv\", sep='\\t', header=None)\n",
    "data_test = pd.read_csv(\"dataset/test_preprocess.tsv\", sep='\\t', header=None)\n",
    "\n",
    "# Define column data\n",
    "X_train = data_train[0]\n",
    "y_train = data_train[1]\n",
    "X_valid = data_valid[0]\n",
    "y_valid = data_valid[1]\n",
    "X_test = data_test[0]\n",
    "y_test = data_test[1]\n",
    "\n",
    "# Preprocess text\n",
    "data_train['clean_data'] = X_train.apply(preprocess_text)\n",
    "data_valid['clean_data'] = X_valid.apply(preprocess_text)\n",
    "data_test['clean_data'] = X_test.apply(preprocess_text)\n",
    "\n",
    "X_train = data_train['clean_data']\n",
    "X_valid = data_valid['clean_data']\n",
    "X_test = data_test['clean_data']"
   ]
  },
  {
   "cell_type": "markdown",
   "metadata": {},
   "source": [
    "## Feature Extraction"
   ]
  },
  {
   "cell_type": "code",
   "execution_count": 48,
   "metadata": {},
   "outputs": [],
   "source": [
    "# Feature extraction with bag of words\n",
    "bow_vectorizer = CountVectorizer()\n",
    "\n",
    "# Fit and transfrom data\n",
    "X_train_bow = bow_vectorizer.fit_transform(X_train)\n",
    "X_valid_bow = bow_vectorizer.transform(X_valid)\n",
    "X_test_bow = bow_vectorizer.transform(X_test)"
   ]
  },
  {
   "cell_type": "markdown",
   "metadata": {},
   "source": [
    "## Train and Evaluating Model"
   ]
  },
  {
   "cell_type": "code",
   "execution_count": 49,
   "metadata": {},
   "outputs": [],
   "source": [
    "# Function to train and evaluating model\n",
    "def train_and_evaluate(model, X_train, X_test, y_train, y_test, model_name):\n",
    "    model.fit(X_train, y_train)\n",
    "    y_pred = model.predict(X_test)\n",
    "    \n",
    "    # Show classification report\n",
    "    print(f\"Model: {model_name}\")\n",
    "    print(f\"Accuracy: {accuracy_score(y_test, y_pred)}\")\n",
    "    print(f\"Precision: {precision_score(y_test, y_pred, average='weighted')}\")\n",
    "    print(f\"Recall: {recall_score(y_test, y_pred, average='weighted')}\")\n",
    "    print(f\"F1 Score: {f1_score(y_test, y_pred, average='weighted')}\")\n",
    "    print(classification_report(y_test, y_pred))"
   ]
  },
  {
   "cell_type": "markdown",
   "metadata": {},
   "source": [
    "### With Logistic Regression"
   ]
  },
  {
   "cell_type": "code",
   "execution_count": 50,
   "metadata": {},
   "outputs": [
    {
     "name": "stdout",
     "output_type": "stream",
     "text": [
      "Model: Logistic Regression\n",
      "Accuracy: 0.752\n",
      "Precision: 0.7540786834476674\n",
      "Recall: 0.752\n",
      "F1 Score: 0.7446503364301793\n",
      "              precision    recall  f1-score   support\n",
      "\n",
      "    negative       0.72      0.85      0.78       204\n",
      "     neutral       0.74      0.45      0.56        88\n",
      "    positive       0.79      0.78      0.79       208\n",
      "\n",
      "    accuracy                           0.75       500\n",
      "   macro avg       0.75      0.70      0.71       500\n",
      "weighted avg       0.75      0.75      0.74       500\n",
      "\n"
     ]
    }
   ],
   "source": [
    "log_regression = LogisticRegression(max_iter=1000)\n",
    "train_and_evaluate(log_regression, X_train_bow, X_test_bow, y_train, y_test, \"Logistic Regression\")"
   ]
  },
  {
   "cell_type": "markdown",
   "metadata": {},
   "source": [
    "### With K-Nearest Neighbors (KNN)"
   ]
  },
  {
   "cell_type": "code",
   "execution_count": 51,
   "metadata": {},
   "outputs": [
    {
     "name": "stdout",
     "output_type": "stream",
     "text": [
      "Model: K-Nearest Neighbors\n",
      "Accuracy: 0.458\n",
      "Precision: 0.47430046082949306\n",
      "Recall: 0.458\n",
      "F1 Score: 0.4226230869001297\n",
      "              precision    recall  f1-score   support\n",
      "\n",
      "    negative       0.43      0.65      0.51       204\n",
      "     neutral       0.50      0.05      0.08        88\n",
      "    positive       0.51      0.45      0.48       208\n",
      "\n",
      "    accuracy                           0.46       500\n",
      "   macro avg       0.48      0.38      0.36       500\n",
      "weighted avg       0.47      0.46      0.42       500\n",
      "\n"
     ]
    }
   ],
   "source": [
    "KNN = KNeighborsClassifier()\n",
    "train_and_evaluate(KNN, X_train_bow, X_test_bow, y_train, y_test, \"K-Nearest Neighbors\")"
   ]
  },
  {
   "cell_type": "markdown",
   "metadata": {},
   "source": [
    "## With SVM"
   ]
  },
  {
   "cell_type": "code",
   "execution_count": 52,
   "metadata": {},
   "outputs": [
    {
     "name": "stdout",
     "output_type": "stream",
     "text": [
      "Model: SVM\n",
      "Accuracy: 0.678\n",
      "Precision: 0.7404846118964531\n",
      "Recall: 0.678\n",
      "F1 Score: 0.6547846932130185\n",
      "              precision    recall  f1-score   support\n",
      "\n",
      "    negative       0.58      0.91      0.71       204\n",
      "     neutral       0.86      0.22      0.35        88\n",
      "    positive       0.84      0.64      0.73       208\n",
      "\n",
      "    accuracy                           0.68       500\n",
      "   macro avg       0.76      0.59      0.60       500\n",
      "weighted avg       0.74      0.68      0.65       500\n",
      "\n"
     ]
    }
   ],
   "source": [
    "SVM = SVC()\n",
    "train_and_evaluate(SVM, X_train_bow, X_test_bow, y_train, y_test, \"SVM\")"
   ]
  }
 ],
 "metadata": {
  "kernelspec": {
   "display_name": "Python 3",
   "language": "python",
   "name": "python3"
  },
  "language_info": {
   "codemirror_mode": {
    "name": "ipython",
    "version": 3
   },
   "file_extension": ".py",
   "mimetype": "text/x-python",
   "name": "python",
   "nbconvert_exporter": "python",
   "pygments_lexer": "ipython3",
   "version": "3.10.10"
  }
 },
 "nbformat": 4,
 "nbformat_minor": 2
}
